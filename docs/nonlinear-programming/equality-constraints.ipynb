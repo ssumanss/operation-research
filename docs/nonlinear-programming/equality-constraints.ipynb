{
 "cells": [
  {
   "cell_type": "code",
   "execution_count": 5,
   "metadata": {},
   "outputs": [],
   "source": [
    "from IPython.display import display, Markdown, Math\n",
    "from sympy import init_printing\n",
    "init_printing()"
   ]
  },
  {
   "cell_type": "markdown",
   "metadata": {},
   "source": [
    "## KKT Conditions\n",
    "\n",
    "Find the minimum (over $x$, $y$) of the function $f(x,y)$, subject to $g(x,y)=0$, where \n",
    "\n",
    "$$\n",
    "\\begin{alignat*}{2}\n",
    "    & \\text{minimize: } && 2 x^2 + 3 y^2 \\\\\n",
    "    & \\text{subject to: } && \n",
    "        \\begin{aligned}[t]\n",
    "            x^2 + y^2 &= 4 \n",
    "        \\end{aligned}\n",
    "\\end{alignat*}\n",
    "$$   "
   ]
  },
  {
   "cell_type": "markdown",
   "metadata": {},
   "source": [
    "### Step I\n",
    "  \n",
    "Defining variable and functions"
   ]
  },
  {
   "cell_type": "code",
   "execution_count": 29,
   "metadata": {},
   "outputs": [
    {
     "data": {
      "text/latex": [
       "$\\displaystyle \n",
       "f = 2 x^{2} + 3 y^{2}\\\\\n",
       "g = x^{2} + y^{2} - 4\n",
       "$"
      ],
      "text/plain": [
       "<IPython.core.display.Math object>"
      ]
     },
     "metadata": {},
     "output_type": "display_data"
    }
   ],
   "source": [
    "import sympy as sp\n",
    "x, y = sp.var('x,y',real=True);\n",
    "f = 2 * x**2 + 3 * y**2\n",
    "g = x**2 + y**2 - 4\n",
    "display(Math(\n",
    "rf\"\"\"\n",
    "f = {sp.latex(f)}\\\\\n",
    "g = {sp.latex(g)}\n",
    "\"\"\"))"
   ]
  },
  {
   "cell_type": "markdown",
   "metadata": {},
   "source": [
    "### Step II\n",
    "\n",
    "Defining lagrangian function."
   ]
  },
  {
   "cell_type": "code",
   "execution_count": 42,
   "metadata": {},
   "outputs": [
    {
     "data": {
      "text/markdown": [
       "The lagrangian $L=- \\lambda \\left(x^{2} + y^{2} - 4\\right) + 2 x^{2} + 3 y^{2}$"
      ],
      "text/plain": [
       "<IPython.core.display.Markdown object>"
      ]
     },
     "metadata": {},
     "output_type": "display_data"
    }
   ],
   "source": [
    "lam = sp.symbols('lambda', real = True)\n",
    "L = f - lam* g\n",
    "display(Markdown(rf\"The lagrangian $L={sp.latex(L)}$\"))"
   ]
  },
  {
   "cell_type": "markdown",
   "metadata": {},
   "source": [
    "### Step III\n",
    "\n",
    "Deriving KKT equations"
   ]
  },
  {
   "cell_type": "code",
   "execution_count": 34,
   "metadata": {},
   "outputs": [
    {
     "data": {
      "text/latex": [
       "$\\displaystyle - 2 \\lambda x + 4 x= 0 \\\\- 2 \\lambda y + 6 y= 0 \\\\x^{2} + y^{2} - 4= 0 \\\\$"
      ],
      "text/plain": [
       "<IPython.core.display.Math object>"
      ]
     },
     "metadata": {},
     "output_type": "display_data"
    }
   ],
   "source": [
    "gradL = [sp.diff(L,c) for c in [x,y]] # gradient of Lagrangian w.r.t. (x,y)\n",
    "KKT_eqs = gradL + [g]\n",
    "\n",
    "expr = \"\"\n",
    "for i in KKT_eqs:\n",
    "    expr += sp.latex(i) + \"= 0 \\\\\\\\\"\n",
    "    \n",
    "display(Math(expr))"
   ]
  },
  {
   "cell_type": "markdown",
   "metadata": {},
   "source": [
    "### Step IV\n",
    "\n",
    "Solving KKT Conditions to obtain necessary points"
   ]
  },
  {
   "cell_type": "code",
   "execution_count": 73,
   "metadata": {},
   "outputs": [
    {
     "data": {
      "text/markdown": [
       "|$x$|$y$|$\\lambda$|Obj|\n",
       "|---|---|---|---|\n",
       "|$-2$|$0$|$2$|$8$|\n",
       "|$2$|$0$|$2$|$8$|\n",
       "|$0$|$-2$|$3$|$12$|\n",
       "|$0$|$2$|$3$|$12$|\n"
      ],
      "text/plain": [
       "<IPython.core.display.Markdown object>"
      ]
     },
     "metadata": {},
     "output_type": "display_data"
    }
   ],
   "source": [
    "stationary_points = sp.solve(KKT_eqs, [x, y, lam], dict=True) # solve the KKT equations\n",
    "stationary_points \n",
    "\n",
    "table = \"|$x$|$y$|$\\lambda$|Obj|\\n|---|---|---|---|\\n\"\n",
    "for i in stationary_points:\n",
    "    table += \"|$\" + str(i[x]) \\\n",
    "          + \"$|$\" + str(i[y]) \\\n",
    "          + \"$|$\" + str(i[lam]) \\\n",
    "          + \"$|$\" + str(f.subs(i)) \\\n",
    "          + \"$|\\n\"\n",
    "\n",
    "display(Markdown(table))"
   ]
  },
  {
   "cell_type": "markdown",
   "metadata": {},
   "source": [
    "### Step V\n",
    "\n",
    "Computing bordered Hessian for each points"
   ]
  },
  {
   "cell_type": "code",
   "execution_count": 67,
   "metadata": {},
   "outputs": [
    {
     "data": {
      "image/png": "[encoded data removed]",
      "text/latex": [
       "$$\\left[\\begin{matrix}0 & 2 x & 2 y\\\\2 x & - 2 \\lambda + 4 & 0\\\\2 y & 0 & - 2 \\lambda + 6\\end{matrix}\\right]$$"
      ],
      "text/plain": [
       "⎡ 0     2⋅x       2⋅y   ⎤\n",
       "⎢                       ⎥\n",
       "⎢2⋅x  -2⋅λ + 4     0    ⎥\n",
       "⎢                       ⎥\n",
       "⎣2⋅y     0      -2⋅λ + 6⎦"
      ]
     },
     "execution_count": 67,
     "metadata": {},
     "output_type": "execute_result"
    }
   ],
   "source": [
    "H = sp.hessian(L, (x,y), [g])\n",
    "H"
   ]
  },
  {
   "cell_type": "markdown",
   "metadata": {},
   "source": [
    "### Step VI\n",
    "\n",
    "Determinant of the bordered hessian will provide maxima and minima."
   ]
  },
  {
   "cell_type": "code",
   "execution_count": 72,
   "metadata": {},
   "outputs": [
    {
     "data": {
      "text/markdown": [
       "|$x$|$y$|$\\lambda$|Obj|Hessian|\n",
       "|---|---|---|---|---|\n",
       "|$-2$|$0$|$2$|$8$|$-32$|\n",
       "|$2$|$0$|$2$|$8$|$-32$|\n",
       "|$0$|$-2$|$3$|$12$|$32$|\n",
       "|$0$|$2$|$3$|$12$|$32$|\n"
      ],
      "text/plain": [
       "<IPython.core.display.Markdown object>"
      ]
     },
     "metadata": {},
     "output_type": "display_data"
    }
   ],
   "source": [
    "[H.subs(p).det() for p in stationary_points]\n",
    "\n",
    "table = \"|$x$|$y$|$\\lambda$|Obj|Hessian|\\n\" \\\n",
    "       +\"|---|---|---|---|---|\\n\"\n",
    "for i in stationary_points:\n",
    "    table += \"|$\" + str(i[x]) + \"$|$\" \\\n",
    "                  + str(i[y]) + \"$|$\" \\\n",
    "                  + str(i[lam]) + \"$|$\" \\\n",
    "                  + str(f.subs(i)) + \"$|$\" \\\n",
    "                  + str(H.subs(i).det()) + \"$|\\n\"\n",
    "\n",
    "display(Markdown(table))"
   ]
  },
  {
   "cell_type": "markdown",
   "metadata": {},
   "source": [
    "**Conclusion:** First two points are minima while third and forth points are maxima."
   ]
  }
 ],
 "metadata": {
  "hide_input": false,
  "kernelspec": {
   "display_name": "Python 3",
   "language": "python",
   "name": "python3"
  },
  "language_info": {
   "codemirror_mode": {
    "name": "ipython",
    "version": 3
   },
   "file_extension": ".py",
   "mimetype": "text/x-python",
   "name": "python",
   "nbconvert_exporter": "python",
   "pygments_lexer": "ipython3",
   "version": "3.7.2"
  }
 },
 "nbformat": 4,
 "nbformat_minor": 4
}

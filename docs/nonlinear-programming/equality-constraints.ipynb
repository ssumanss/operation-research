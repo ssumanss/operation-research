{
 "cells": [
  {
   "cell_type": "code",
   "execution_count": 1,
   "metadata": {},
   "outputs": [],
   "source": [
    "from sympy import init_printing\n",
    "init_printing()"
   ]
  },
  {
   "cell_type": "markdown",
   "metadata": {},
   "source": [
    "## KKT Conditions\n",
    "\n",
    "Find the minimum (over $x$, $y$) of the function $f(x,y)$, subject to $g(x,y)=0$, where \n",
    "\\begin{align}\n",
    "f(x,y) &= 2 x^2 + 3 y^2 \\\\\n",
    "g(x,y) &= x^2 + y^2 - 4\n",
    "\\end{align}"
   ]
  },
  {
   "cell_type": "markdown",
   "metadata": {},
   "source": [
    "### Step I\n",
    "  \n",
    "Defining variable and functions"
   ]
  },
  {
   "cell_type": "code",
   "execution_count": 2,
   "metadata": {},
   "outputs": [
    {
     "data": {
      "image/png": "[encoded data removed]",
      "text/latex": [
       "$$\\left ( 2 x^{2} + 3 y^{2}, \\quad x^{2} + y^{2} - 4\\right )$$"
      ],
      "text/plain": [
       "⎛   2      2   2    2    ⎞\n",
       "⎝2⋅x  + 3⋅y , x  + y  - 4⎠"
      ]
     },
     "execution_count": 2,
     "metadata": {},
     "output_type": "execute_result"
    }
   ],
   "source": [
    "import sympy as sp\n",
    "x, y = sp.var('x,y',real=True);\n",
    "f = 2 * x**2 + 3 * y**2\n",
    "g = x**2 + y**2 - 4\n",
    "f,g"
   ]
  },
  {
   "cell_type": "markdown",
   "metadata": {},
   "source": [
    "### Step II\n",
    "\n",
    "Defining lagrangian function."
   ]
  },
  {
   "cell_type": "code",
   "execution_count": 3,
   "metadata": {},
   "outputs": [
    {
     "data": {
      "image/png": "[encoded data removed]",
      "text/latex": [
       "$$- \\lambda \\left(x^{2} + y^{2} - 4\\right) + 2 x^{2} + 3 y^{2}$$"
      ],
      "text/plain": [
       "    ⎛ 2    2    ⎞      2      2\n",
       "- λ⋅⎝x  + y  - 4⎠ + 2⋅x  + 3⋅y "
      ]
     },
     "execution_count": 3,
     "metadata": {},
     "output_type": "execute_result"
    }
   ],
   "source": [
    "lam = sp.symbols('lambda', real = True)\n",
    "L = f - lam* g\n",
    "L"
   ]
  },
  {
   "cell_type": "markdown",
   "metadata": {},
   "source": [
    "### Step III\n",
    "\n",
    "Deriving KKT equations"
   ]
  },
  {
   "cell_type": "code",
   "execution_count": 4,
   "metadata": {},
   "outputs": [
    {
     "data": {
      "image/png": "[encoded data removed]",
      "text/latex": [
       "$$\\left [ - 2 \\lambda x + 4 x, \\quad - 2 \\lambda y + 6 y, \\quad x^{2} + y^{2} - 4\\right ]$$"
      ],
      "text/plain": [
       "⎡                             2    2    ⎤\n",
       "⎣-2⋅λ⋅x + 4⋅x, -2⋅λ⋅y + 6⋅y, x  + y  - 4⎦"
      ]
     },
     "execution_count": 4,
     "metadata": {},
     "output_type": "execute_result"
    }
   ],
   "source": [
    "gradL = [sp.diff(L,c) for c in [x,y]] # gradient of Lagrangian w.r.t. (x,y)\n",
    "KKT_eqs = gradL + [g]\n",
    "KKT_eqs"
   ]
  },
  {
   "cell_type": "markdown",
   "metadata": {},
   "source": [
    "### Step IV\n",
    "\n",
    "Solving KKT Conditions to obtain necessary points"
   ]
  },
  {
   "cell_type": "code",
   "execution_count": 5,
   "metadata": {},
   "outputs": [
    {
     "data": {
      "image/png": "[encoded data removed]",
      "text/latex": [
       "$$\\left [ \\left \\{ \\lambda : 2, \\quad x : -2, \\quad y : 0\\right \\}, \\quad \\left \\{ \\lambda : 2, \\quad x : 2, \\quad y : 0\\right \\}, \\quad \\left \\{ \\lambda : 3, \\quad x : 0, \\quad y : -2\\right \\}, \\quad \\left \\{ \\lambda : 3, \\quad x : 0, \\quad y : 2\\right \\}\\right ]$$"
      ],
      "text/plain": [
       "[{λ: 2, x: -2, y: 0}, {λ: 2, x: 2, y: 0}, {λ: 3, x: 0, y: -2}, {λ: 3, x: 0, y:\n",
       " 2}]"
      ]
     },
     "execution_count": 5,
     "metadata": {},
     "output_type": "execute_result"
    }
   ],
   "source": [
    "stationary_points = sp.solve(KKT_eqs, [x, y, lam], dict=True) # solve the KKT equations\n",
    "stationary_points "
   ]
  },
  {
   "cell_type": "code",
   "execution_count": 6,
   "metadata": {},
   "outputs": [
    {
     "data": {
      "image/png": "[encoded data removed]",
      "text/latex": [
       "$$\\left [ 8, \\quad 8, \\quad 12, \\quad 12\\right ]$$"
      ],
      "text/plain": [
       "[8, 8, 12, 12]"
      ]
     },
     "execution_count": 6,
     "metadata": {},
     "output_type": "execute_result"
    }
   ],
   "source": [
    "[f.subs(p) for p in stationary_points]"
   ]
  },
  {
   "cell_type": "markdown",
   "metadata": {},
   "source": [
    "### Step V\n",
    "\n",
    "Computing bordered Hessian for each points"
   ]
  },
  {
   "cell_type": "code",
   "execution_count": 9,
   "metadata": {},
   "outputs": [
    {
     "data": {
      "image/png": "[encoded data removed]",
      "text/latex": [
       "$$\\left[\\begin{matrix}0 & 2 x & 2 y\\\\2 x & - 2 \\lambda + 4 & 0\\\\2 y & 0 & - 2 \\lambda + 6\\end{matrix}\\right]$$"
      ],
      "text/plain": [
       "⎡ 0     2⋅x       2⋅y   ⎤\n",
       "⎢                       ⎥\n",
       "⎢2⋅x  -2⋅λ + 4     0    ⎥\n",
       "⎢                       ⎥\n",
       "⎣2⋅y     0      -2⋅λ + 6⎦"
      ]
     },
     "execution_count": 9,
     "metadata": {},
     "output_type": "execute_result"
    }
   ],
   "source": [
    "H = sp.hessian(L, (x,y), [g])\n",
    "H"
   ]
  },
  {
   "cell_type": "markdown",
   "metadata": {},
   "source": [
    "### Step VI\n",
    "\n",
    "Determinant of the bordered hessian will provide maxima and minima."
   ]
  },
  {
   "cell_type": "code",
   "execution_count": 10,
   "metadata": {},
   "outputs": [
    {
     "data": {
      "image/png": "[encoded data removed]",
      "text/latex": [
       "$$\\left [ -32, \\quad -32, \\quad 32, \\quad 32\\right ]$$"
      ],
      "text/plain": [
       "[-32, -32, 32, 32]"
      ]
     },
     "execution_count": 10,
     "metadata": {},
     "output_type": "execute_result"
    }
   ],
   "source": [
    "[H.subs(p).det() for p in stationary_points]"
   ]
  },
  {
   "cell_type": "markdown",
   "metadata": {},
   "source": [
    "**Conclusion:** First two points are minima while third and forth points are maxima."
   ]
  }
 ],
 "metadata": {
  "hide_input": false,
  "kernelspec": {
   "display_name": "Python 3",
   "language": "python",
   "name": "python3"
  },
  "language_info": {
   "codemirror_mode": {
    "name": "ipython",
    "version": 3
   },
   "file_extension": ".py",
   "mimetype": "text/x-python",
   "name": "python",
   "nbconvert_exporter": "python",
   "pygments_lexer": "ipython3",
   "version": "3.7.2"
  }
 },
 "nbformat": 4,
 "nbformat_minor": 4
}
{
 "cells": [
  {
   "cell_type": "code",
   "execution_count": 1,
   "metadata": {},
   "outputs": [],
   "source": [
    "from IPython.display import display, Markdown, Math\n",
    "import sympy as sp\n",
    "import numpy as np\n",
    "sp.init_printing()"
   ]
  },
  {
   "cell_type": "markdown",
   "metadata": {},
   "source": [
    "Find the maxima of the following function\n",
    "$$f(x,y)=x^4 −x^2y+y^2 −3y+4$$\n",
    "\n",
    "### Step I\n",
    "\n",
    "Defining variable and function."
   ]
  },
  {
   "cell_type": "code",
   "execution_count": 2,
   "metadata": {},
   "outputs": [
    {
     "data": {
      "text/latex": [
       "$\\displaystyle \n",
       "f = x^{4} - x^{2} y + y^{2} - 3 y + 4\n",
       "$"
      ],
      "text/plain": [
       "<IPython.core.display.Math object>"
      ]
     },
     "metadata": {},
     "output_type": "display_data"
    }
   ],
   "source": [
    "x, y = sp.var('x,y',real=True);\n",
    "f = x**4 - x**2*y + y**2 - 3*y +4\n",
    "display(Math(\n",
    "rf\"\"\"\n",
    "f = {sp.latex(f)}\n",
    "\"\"\"))"
   ]
  },
  {
   "cell_type": "markdown",
   "metadata": {},
   "source": [
    "### Step II\n",
    "\n",
    "Finding gradiant of the function."
   ]
  },
  {
   "cell_type": "code",
   "execution_count": 3,
   "metadata": {},
   "outputs": [
    {
     "data": {
      "text/latex": [
       "$\\displaystyle 4 x^{3} - 2 x y= 0 \\\\- x^{2} + 2 y - 3= 0 \\\\$"
      ],
      "text/plain": [
       "<IPython.core.display.Math object>"
      ]
     },
     "metadata": {},
     "output_type": "display_data"
    }
   ],
   "source": [
    "gradf = [sp.diff(f,c) for c in [x,y]] # gradient of Lagrangian w.r.t. (x,y)\n",
    "\n",
    "expr = \"\"\n",
    "for i in gradf:\n",
    "    expr += sp.latex(i) + \"= 0 \\\\\\\\\"\n",
    "    \n",
    "display(Math(expr))"
   ]
  },
  {
   "cell_type": "markdown",
   "metadata": {},
   "source": [
    "### Step III\n",
    "\n",
    "Finding the criticlal points by setting the gradient equal to $0$."
   ]
  },
  {
   "cell_type": "code",
   "execution_count": 4,
   "metadata": {},
   "outputs": [
    {
     "data": {
      "text/markdown": [
       "|$x$|$y$|Obj|\n",
       "|---|---|---|\n",
       "|$-1$|$2$|$1$|\n",
       "|$0$|$\\frac{3}{2}$|$\\frac{7}{4}$|\n",
       "|$1$|$2$|$1$|\n"
      ],
      "text/plain": [
       "<IPython.core.display.Markdown object>"
      ]
     },
     "metadata": {},
     "output_type": "display_data"
    }
   ],
   "source": [
    "stationary_points = sp.solve(gradf, [x, y], dict=True) # solve the KKT equations\n",
    "stationary_points \n",
    "\n",
    "table = \"|$x$|$y$|Obj|\\n|---|---|---|\\n\"\n",
    "for i in stationary_points:\n",
    "    table += \"|$\" + sp.latex(i[x]) \\\n",
    "          + \"$|$\" + sp.latex(i[y]) \\\n",
    "          + \"$|$\" + sp.latex(f.subs(i)) \\\n",
    "          + \"$|\\n\"\n",
    "\n",
    "display(Markdown(table))"
   ]
  },
  {
   "cell_type": "markdown",
   "metadata": {},
   "source": [
    "### Step IV\n",
    "\n",
    "Computing the sign of the Hessian at each of the critical points. "
   ]
  },
  {
   "cell_type": "code",
   "execution_count": 8,
   "metadata": {},
   "outputs": [
    {
     "data": {
      "text/latex": [
       "$\\displaystyle H = \\left[\\begin{matrix}12 x^{2} - 2 y & - 2 x\\\\- 2 x & 2\\end{matrix}\\right]$"
      ],
      "text/plain": [
       "<IPython.core.display.Math object>"
      ]
     },
     "metadata": {},
     "output_type": "display_data"
    }
   ],
   "source": [
    "H = sp.hessian(f, (x,y))\n",
    "display(Math(r\"H = \"+ sp.latex(H)))"
   ]
  },
  {
   "cell_type": "code",
   "execution_count": 6,
   "metadata": {},
   "outputs": [],
   "source": [
    "def sign(A):\n",
    "    d = A.eigenvals().keys()\n",
    "    if any(x >= 0 for x in d):\n",
    "        if any(x <= 0 for x in d):\n",
    "            return \"None\"\n",
    "        else:\n",
    "            return \"Minima\"\n",
    "    else:\n",
    "        return \"Maxima\""
   ]
  },
  {
   "cell_type": "code",
   "execution_count": 7,
   "metadata": {},
   "outputs": [
    {
     "data": {
      "text/markdown": [
       "|$x$|$y$|Obj|Hessian|\n",
       "|---|---|---|------|\n",
       "|$-1$|$2$|$1$|Minima|\n",
       "|$0$|$\\frac{3}{2}$|$\\frac{7}{4}$|None|\n",
       "|$1$|$2$|$1$|Minima|\n"
      ],
      "text/plain": [
       "<IPython.core.display.Markdown object>"
      ]
     },
     "metadata": {},
     "output_type": "display_data"
    }
   ],
   "source": [
    "table = \"|$x$|$y$|Obj|Hessian|\\n\" \\\n",
    "       +\"|---|---|---|------|\\n\"\n",
    "for i in stationary_points:\n",
    "    table += \"|$\" + sp.latex(i[x]) + \"$|$\" \\\n",
    "                  + sp.latex(i[y]) + \"$|$\" \\\n",
    "                  + sp.latex(f.subs(i)) + \"$|\" \\\n",
    "                  + sign(H.subs(i)) + \"|\\n\"\n",
    "\n",
    "display(Markdown(table))"
   ]
  },
  {
   "cell_type": "markdown",
   "metadata": {},
   "source": [
    "**Conclusion:** The points $(-1,2)$ and $(1,2)$ are the local minima(which is also global) of the given function."
   ]
  }
 ],
 "metadata": {
  "hide_input": false,
  "kernelspec": {
   "display_name": "Python 3",
   "language": "python",
   "name": "python3"
  },
  "language_info": {
   "codemirror_mode": {
    "name": "ipython",
    "version": 3
   },
   "file_extension": ".py",
   "mimetype": "text/x-python",
   "name": "python",
   "nbconvert_exporter": "python",
   "pygments_lexer": "ipython3",
   "version": "3.7.2"
  }
 },
 "nbformat": 4,
 "nbformat_minor": 4
}

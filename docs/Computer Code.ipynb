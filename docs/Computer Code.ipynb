{
 "cells": [
  {
   "cell_type": "code",
   "execution_count": 38,
   "metadata": {},
   "outputs": [],
   "source": [
    "from sympy import init_printing, N\n",
    "init_printing()"
   ]
  },
  {
   "cell_type": "code",
   "execution_count": 68,
   "metadata": {},
   "outputs": [],
   "source": [
    "c = [-1, 4]\n",
    "A = [[-3, 1], \n",
    "     [1, 2]]\n",
    "b = [6, 4]\n",
    "x0_bounds = (None, None)\n",
    "x1_bounds = (-3, None)\n",
    "from scipy.optimize import linprog\n",
    "res = linprog(c, A_ub=A, b_ub=b, bounds=[x0_bounds, x1_bounds], method='revised simplex')"
   ]
  },
  {
   "cell_type": "code",
   "execution_count": 69,
   "metadata": {},
   "outputs": [
    {
     "data": {
      "text/plain": [
       "     con: array([], dtype=float64)\n",
       "     fun: -22.0\n",
       " message: 'Optimization terminated successfully.'\n",
       "     nit: 1\n",
       "   slack: array([39.,  0.])\n",
       "  status: 0\n",
       " success: True\n",
       "       x: array([10., -3.])"
      ]
     },
     "execution_count": 69,
     "metadata": {},
     "output_type": "execute_result"
    }
   ],
   "source": [
    "res"
   ]
  },
  {
   "cell_type": "markdown",
   "metadata": {},
   "source": []
  },
  {
   "cell_type": "code",
   "execution_count": 66,
   "metadata": {},
   "outputs": [
    {
     "data": {
      "text/markdown": [
       "**bold text $1/3$**"
      ],
      "text/plain": [
       "<IPython.core.display.Markdown object>"
      ]
     },
     "metadata": {},
     "output_type": "display_data"
    }
   ],
   "source": [
    "from fractions import Fraction\n",
    "def pn(x):\n",
    "    return str(Fraction(x).limit_denominator())\n",
    "\n",
    "from IPython.display import Markdown, display, HTML\n",
    "def printmd(string):\n",
    "    display(Markdown(string))\n",
    "\n",
    "def printhtml(string):\n",
    "    display(HTML(string))\n",
    "    \n",
    "data = r'<table><tr><th>Weekday</th><th>1st Period</th><th>2nd Period</th><th>3rd Period</th><th>4rd Period</th><th>5rd Period</th><th>6rd Period</th></tr><tr><td>MON</td><td></td><td></td><td>CA $X$</td><td></td><td></td><td></td></tr><tr><td>TUE</td><td></td><td></td><td>CA $\\sum$</td><td></td><td></td><td></td></tr><tr><td>WED</td><td>CA<br></td><td></td><td></td><td></td><td></td><td></td></tr><tr><td>THR</td><td>CA<br></td><td></td><td></td><td></td><td></td><td></td></tr><tr><td>FRI</td><td></td><td>CA</td><td></td><td></td><td></td><td></td></tr><tr><td>SAT</td><td></td><td>CA</td><td></td><td></td><td></td><td></td></tr></table>'\n",
    "a=0.33333333\n",
    "printmd(\"**bold text $\" + str(Fraction(a).limit_denominator()) + \"$**\" )"
   ]
  },
  {
   "cell_type": "code",
   "execution_count": 67,
   "metadata": {},
   "outputs": [
    {
     "data": {
      "text/html": [
       "<table><tr><th>Weekday</th><th>1st Period</th><th>2nd Period</th><th>3rd Period</th><th>4rd Period</th><th>5rd Period</th><th>6rd Period</th></tr><tr><td>MON</td><td></td><td></td><td>CA $X$</td><td></td><td></td><td></td></tr><tr><td>TUE</td><td></td><td></td><td>CA $\\sum$</td><td></td><td></td><td></td></tr><tr><td>WED</td><td>CA<br></td><td></td><td></td><td></td><td></td><td></td></tr><tr><td>THR</td><td>CA<br></td><td></td><td></td><td></td><td></td><td></td></tr><tr><td>FRI</td><td></td><td>CA</td><td></td><td></td><td></td><td></td></tr><tr><td>SAT</td><td></td><td>CA</td><td></td><td></td><td></td><td></td></tr></table>"
      ],
      "text/plain": [
       "<IPython.core.display.HTML object>"
      ]
     },
     "metadata": {},
     "output_type": "display_data"
    }
   ],
   "source": [
    "printhtml(data)"
   ]
  },
  {
   "cell_type": "code",
   "execution_count": null,
   "metadata": {},
   "outputs": [],
   "source": []
  },
  {
   "cell_type": "code",
   "execution_count": null,
   "metadata": {},
   "outputs": [],
   "source": []
  }
 ],
 "metadata": {
  "hide_input": false,
  "kernelspec": {
   "display_name": "Python 3",
   "language": "python",
   "name": "python3"
  },
  "language_info": {
   "codemirror_mode": {
    "name": "ipython",
    "version": 3
   },
   "file_extension": ".py",
   "mimetype": "text/x-python",
   "name": "python",
   "nbconvert_exporter": "python",
   "pygments_lexer": "ipython3",
   "version": "3.7.2"
  }
 },
 "nbformat": 4,
 "nbformat_minor": 2
}
